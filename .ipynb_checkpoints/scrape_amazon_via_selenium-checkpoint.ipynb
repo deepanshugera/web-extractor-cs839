{
 "cells": [
  {
   "cell_type": "code",
   "execution_count": 19,
   "metadata": {
    "collapsed": true
   },
   "outputs": [],
   "source": [
    "from lxml import html  \n",
    "import csv,os,json\n",
    "import requests\n",
    "import pandas as pd\n",
    "from time import sleep\n",
    "import socket\n",
    "import socks"
   ]
  },
  {
   "cell_type": "code",
   "execution_count": 37,
   "metadata": {},
   "outputs": [
    {
     "name": "stdout",
     "output_type": "stream",
     "text": [
      "46.101.161.246\n",
      "\n"
     ]
    }
   ],
   "source": [
    "socks.setdefaultproxy(proxy_type=socks.PROXY_TYPE_SOCKS5, addr=\"127.0.0.1\", port=9050)\n",
    "socket.socket = socks.socksocket\n",
    "print(requests.get(\"http://icanhazip.com\").text)"
   ]
  },
  {
   "cell_type": "code",
   "execution_count": 42,
   "metadata": {
    "collapsed": true
   },
   "outputs": [],
   "source": [
    "def AmzonParser(url):\n",
    "    headers = {'User-Agent': 'Mozilla/5.0 (X11; Linux x86_64) AppleWebKit/537.36 (KHTML, like Gecko) Chrome/42.0.2311.90 Safari/537.36'}\n",
    "    page = requests.get(url,headers=headers)\n",
    "    while True:\n",
    "        sleep(3)\n",
    "        try:\n",
    "            doc = html.fromstring(page.content)\n",
    "            XPATH_NAME = '//h1[@id=\"title\"]//text()'\n",
    "            #XPATH_SALE_PRICE = '//span[contains(@id,\"ourprice\") or contains(@id,\"saleprice\")]/text()'\n",
    "            XPATH_SALE_PRICE = '//span[contains(@class,\"offer-price\") and contains(@class,\"a-size-medium\")]//text()'\n",
    "            #XPATH_ORIGINAL_PRICE = '//td[contains(text(),\"List Price\") or contains(text(),\"M.R.P\") or contains(text(),\"Price\")]/following-sibling::td/text()'\n",
    "            XPATH_CATEGORY = '//a[@class=\"a-link-normal a-color-tertiary\"]//text()'\n",
    "            XPATH_AVAILABILITY = '//div[@id=\"availability\"]//text()' \n",
    "            XPATH_AUTHOR = '//a[contains(@class,\"contributorNameID\")]//text()'\n",
    "            XPATH_ISBN10 = '//li/b[contains(text(),\"ISBN-10:\")]/following-sibling::text()'\n",
    "            XPATH_PAGES = '//li/b[contains(text(),\"Paperback\")]/following-sibling::text()'\n",
    "            XPATH_PUBLISHER = '//li/b[contains(text(),\"Publisher\")]/following-sibling::text()'\n",
    "            XPATH_LANGUAGE = '//li/b[contains(text(),\"Language\")]/following-sibling::text()'\n",
    "            XPATH_DIMENSIONS = '//li/b[contains(text(),\"Dimensions\")]/following-sibling::text()'\n",
    "            XPATH_WEIGHT = '//li/b[contains(text(),\"Weight\")]/following-sibling::text()'\n",
    "            XPATH_RATING = '//li/b[contains(text(),\"Average Customer Review:\")]/following-sibling::span/span/a/i/span/text()'\n",
    "           \n",
    "            RAW_NAME = doc.xpath(XPATH_NAME)\n",
    "            RAW_SALE_PRICE = doc.xpath(XPATH_SALE_PRICE)\n",
    "            RAW_CATEGORY = doc.xpath(XPATH_CATEGORY)\n",
    "            ##RAW_ORIGINAL_PRICE = doc.xpath(XPATH_ORIGINAL_PRICE)\n",
    "            RAw_AVAILABILITY = doc.xpath(XPATH_AVAILABILITY)\n",
    "            RAW_AUTHOR = doc.xpath(XPATH_AUTHOR)\n",
    "            RAW_ISBN10 = doc.xpath(XPATH_ISBN10)\n",
    "            RAW_PAGES = doc.xpath(XPATH_PAGES)\n",
    "            RAW_PUBLISHER = doc.xpath(XPATH_PUBLISHER) \n",
    "            RAW_LANGUAGE = doc.xpath(XPATH_LANGUAGE)\n",
    "            RAW_DIMENSIONS = doc.xpath(XPATH_DIMENSIONS)\n",
    "            RAW_WEIGHT = doc.xpath(XPATH_WEIGHT)\n",
    "            RAW_RATING = doc.xpath(XPATH_RATING)\n",
    "            \n",
    "            print(RAW_RATING)\n",
    " \n",
    "            NAME = ' '.join(''.join(RAW_NAME).split()) if RAW_NAME else None\n",
    "            SALE_PRICE = ' '.join(''.join(RAW_SALE_PRICE).split()).strip() if RAW_SALE_PRICE else None\n",
    "            CATEGORY = ' > '.join([i.strip() for i in RAW_CATEGORY]) if RAW_CATEGORY else None\n",
    "            #ORIGINAL_PRICE = ''.join(RAW_ORIGINAL_PRICE).strip() if RAW_ORIGINAL_PRICE else None\n",
    "            AVAILABILITY = ''.join(RAw_AVAILABILITY).strip() if RAw_AVAILABILITY else None\n",
    "            AUTHOR = ''.join(RAW_AUTHOR).strip() if RAW_AUTHOR else None\n",
    "            ISBN10 = ''.join(RAW_ISBN10).strip() if RAW_ISBN10 else None\n",
    "            PAGES = ''.join(RAW_PAGES).strip() if RAW_PAGES else None\n",
    "            PUBLISHER = ''.join(RAW_PUBLISHER).strip() if RAW_PUBLISHER else None\n",
    "            LANGUAGE = ''.join(RAW_LANGUAGE).strip() if RAW_LANGUAGE else None\n",
    "            DIMENSIONS = ''.join(RAW_DIMENSIONS).strip() if RAW_DIMENSIONS else None\n",
    "            WEIGHT = ''.join(RAW_WEIGHT).strip().strip('()').strip() if RAW_WEIGHT else None\n",
    "            RATING = ''.join(RAW_RATING).strip() if RAW_RATING else None\n",
    "            #if not ORIGINAL_PRICE:\n",
    "                #ORIGINAL_PRICE = SALE_PRICE\n",
    " \n",
    "            if page.status_code!=200:\n",
    "                raise ValueError('captha')\n",
    "            data = {\n",
    "                    'NAME':NAME,\n",
    "                    'SALE_PRICE':SALE_PRICE,\n",
    "                    'CATEGORY':CATEGORY,\n",
    "                    #'ORIGINAL_PRICE':ORIGINAL_PRICE,\n",
    "                    'AVAILABILITY':AVAILABILITY,\n",
    "                    'URL':url,\n",
    "                    'AUTHOR' : AUTHOR,\n",
    "                    'ISBN10' : ISBN10,\n",
    "                    'PAGES' : PAGES,\n",
    "                    'PUBLISHER' : PUBLISHER,\n",
    "                    'LANGUAGE' : LANGUAGE,\n",
    "                    'DIMENSIONS' : DIMENSIONS,\n",
    "                    'WEIGHT' : WEIGHT,\n",
    "                    'RATING' : RATING,\n",
    "                    }\n",
    " \n",
    "            return data\n",
    "        except Exception as e:\n",
    "            print(e)\n",
    " "
   ]
  },
  {
   "cell_type": "code",
   "execution_count": 43,
   "metadata": {
    "collapsed": true
   },
   "outputs": [],
   "source": [
    "def ReadAsin(AsinList):\n",
    "    # AsinList = csv.DictReader(open(os.path.join(os.path.dirname(__file__),\"Asinfeed.csv\")))\n",
    "    extracted_data = []\n",
    "    for i in AsinList:\n",
    "        url = \"http://www.amazon.com/gp/product/\"+i\n",
    "        print(\"Processing: \"+url)\n",
    "        extracted_data.append(AmzonParser(url))\n",
    "        sleep(5)\n",
    "    f=open('data.json','w')\n",
    "    json.dump(extracted_data,f,indent=4)\n",
    " "
   ]
  },
  {
   "cell_type": "code",
   "execution_count": 44,
   "metadata": {
    "collapsed": true
   },
   "outputs": [],
   "source": [
    "formatted_asin = []\n",
    "df = pd.read_csv(\"amazon_product_asins.csv\")\n",
    "for index, row in df.iterrows():\n",
    "    if len(row[0]) < 8:\n",
    "        asin = \"000\" + row[0]\n",
    "        formatted_asin.append(asin)\n",
    "    elif len(row[0]) < 9:\n",
    "        asin = \"00\" + row[0]\n",
    "        formatted_asin.append(asin)\n",
    "    elif len(row[0]) < 10:\n",
    "        asin = \"0\" + row[0]\n",
    "        formatted_asin.append(asin)\n",
    "    else:\n",
    "        formatted_asin.append(row[0])"
   ]
  },
  {
   "cell_type": "code",
   "execution_count": 45,
   "metadata": {
    "scrolled": false
   },
   "outputs": [
    {
     "name": "stdout",
     "output_type": "stream",
     "text": [
      "Processing: http://www.amazon.com/gp/product/0399574948\n",
      "[]\n",
      "captha\n"
     ]
    },
    {
     "ename": "KeyboardInterrupt",
     "evalue": "",
     "output_type": "error",
     "traceback": [
      "\u001b[1;31m---------------------------------------------------------------------------\u001b[0m",
      "\u001b[1;31mKeyboardInterrupt\u001b[0m                         Traceback (most recent call last)",
      "\u001b[1;32m<ipython-input-45-a1a289adf52c>\u001b[0m in \u001b[0;36m<module>\u001b[1;34m()\u001b[0m\n\u001b[0;32m      1\u001b[0m \u001b[1;32mif\u001b[0m \u001b[0m__name__\u001b[0m \u001b[1;33m==\u001b[0m \u001b[1;34m\"__main__\"\u001b[0m\u001b[1;33m:\u001b[0m\u001b[1;33m\u001b[0m\u001b[0m\n\u001b[1;32m----> 2\u001b[1;33m     \u001b[0mReadAsin\u001b[0m\u001b[1;33m(\u001b[0m\u001b[0mformatted_asin\u001b[0m\u001b[1;33m[\u001b[0m\u001b[1;36m1000\u001b[0m\u001b[1;33m:\u001b[0m\u001b[1;36m1100\u001b[0m\u001b[1;33m]\u001b[0m\u001b[1;33m)\u001b[0m\u001b[1;33m\u001b[0m\u001b[0m\n\u001b[0m",
      "\u001b[1;32m<ipython-input-43-19b31fb38503>\u001b[0m in \u001b[0;36mReadAsin\u001b[1;34m(AsinList)\u001b[0m\n\u001b[0;32m      5\u001b[0m         \u001b[0murl\u001b[0m \u001b[1;33m=\u001b[0m \u001b[1;34m\"http://www.amazon.com/gp/product/\"\u001b[0m\u001b[1;33m+\u001b[0m\u001b[0mi\u001b[0m\u001b[1;33m\u001b[0m\u001b[0m\n\u001b[0;32m      6\u001b[0m         \u001b[0mprint\u001b[0m\u001b[1;33m(\u001b[0m\u001b[1;34m\"Processing: \"\u001b[0m\u001b[1;33m+\u001b[0m\u001b[0murl\u001b[0m\u001b[1;33m)\u001b[0m\u001b[1;33m\u001b[0m\u001b[0m\n\u001b[1;32m----> 7\u001b[1;33m         \u001b[0mextracted_data\u001b[0m\u001b[1;33m.\u001b[0m\u001b[0mappend\u001b[0m\u001b[1;33m(\u001b[0m\u001b[0mAmzonParser\u001b[0m\u001b[1;33m(\u001b[0m\u001b[0murl\u001b[0m\u001b[1;33m)\u001b[0m\u001b[1;33m)\u001b[0m\u001b[1;33m\u001b[0m\u001b[0m\n\u001b[0m\u001b[0;32m      8\u001b[0m         \u001b[0msleep\u001b[0m\u001b[1;33m(\u001b[0m\u001b[1;36m5\u001b[0m\u001b[1;33m)\u001b[0m\u001b[1;33m\u001b[0m\u001b[0m\n\u001b[0;32m      9\u001b[0m     \u001b[0mf\u001b[0m\u001b[1;33m=\u001b[0m\u001b[0mopen\u001b[0m\u001b[1;33m(\u001b[0m\u001b[1;34m'data.json'\u001b[0m\u001b[1;33m,\u001b[0m\u001b[1;34m'w'\u001b[0m\u001b[1;33m)\u001b[0m\u001b[1;33m\u001b[0m\u001b[0m\n",
      "\u001b[1;32m<ipython-input-42-ea5c400c3bb6>\u001b[0m in \u001b[0;36mAmzonParser\u001b[1;34m(url)\u001b[0m\n\u001b[0;32m      3\u001b[0m     \u001b[0mpage\u001b[0m \u001b[1;33m=\u001b[0m \u001b[0mrequests\u001b[0m\u001b[1;33m.\u001b[0m\u001b[0mget\u001b[0m\u001b[1;33m(\u001b[0m\u001b[0murl\u001b[0m\u001b[1;33m,\u001b[0m\u001b[0mheaders\u001b[0m\u001b[1;33m=\u001b[0m\u001b[0mheaders\u001b[0m\u001b[1;33m)\u001b[0m\u001b[1;33m\u001b[0m\u001b[0m\n\u001b[0;32m      4\u001b[0m     \u001b[1;32mwhile\u001b[0m \u001b[1;32mTrue\u001b[0m\u001b[1;33m:\u001b[0m\u001b[1;33m\u001b[0m\u001b[0m\n\u001b[1;32m----> 5\u001b[1;33m         \u001b[0msleep\u001b[0m\u001b[1;33m(\u001b[0m\u001b[1;36m3\u001b[0m\u001b[1;33m)\u001b[0m\u001b[1;33m\u001b[0m\u001b[0m\n\u001b[0m\u001b[0;32m      6\u001b[0m         \u001b[1;32mtry\u001b[0m\u001b[1;33m:\u001b[0m\u001b[1;33m\u001b[0m\u001b[0m\n\u001b[0;32m      7\u001b[0m             \u001b[0mdoc\u001b[0m \u001b[1;33m=\u001b[0m \u001b[0mhtml\u001b[0m\u001b[1;33m.\u001b[0m\u001b[0mfromstring\u001b[0m\u001b[1;33m(\u001b[0m\u001b[0mpage\u001b[0m\u001b[1;33m.\u001b[0m\u001b[0mcontent\u001b[0m\u001b[1;33m)\u001b[0m\u001b[1;33m\u001b[0m\u001b[0m\n",
      "\u001b[1;31mKeyboardInterrupt\u001b[0m: "
     ]
    }
   ],
   "source": [
    "if __name__ == \"__main__\":\n",
    "    ReadAsin(formatted_asin[1000:1100])"
   ]
  },
  {
   "cell_type": "code",
   "execution_count": null,
   "metadata": {
    "collapsed": true
   },
   "outputs": [],
   "source": []
  }
 ],
 "metadata": {
  "kernelspec": {
   "display_name": "Python 3",
   "language": "python",
   "name": "python3"
  },
  "language_info": {
   "codemirror_mode": {
    "name": "ipython",
    "version": 3
   },
   "file_extension": ".py",
   "mimetype": "text/x-python",
   "name": "python",
   "nbconvert_exporter": "python",
   "pygments_lexer": "ipython3",
   "version": "3.6.3"
  }
 },
 "nbformat": 4,
 "nbformat_minor": 2
}
