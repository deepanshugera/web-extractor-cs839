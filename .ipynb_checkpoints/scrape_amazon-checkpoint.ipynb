{
 "cells": [
  {
   "cell_type": "code",
   "execution_count": 1,
   "metadata": {
    "collapsed": true
   },
   "outputs": [],
   "source": [
    "from lxml import html  \n",
    "import csv,os,json\n",
    "import requests\n",
    "from exceptions import ValueError\n",
    "from time import sleep"
   ]
  },
  {
   "cell_type": "code",
   "execution_count": 98,
   "metadata": {
    "collapsed": true
   },
   "outputs": [],
   "source": [
    "def AmzonParser(url):\n",
    "    headers = {'User-Agent': 'Mozilla/5.0 (X11; Linux x86_64) AppleWebKit/537.36 (KHTML, like Gecko) Chrome/42.0.2311.90 Safari/537.36'}\n",
    "    page = requests.get(url,headers=headers)\n",
    "    while True:\n",
    "        sleep(3)\n",
    "        try:\n",
    "            doc = html.fromstring(page.content)\n",
    "            XPATH_NAME = '//h1[@id=\"title\"]//text()'\n",
    "            #XPATH_SALE_PRICE = '//span[contains(@id,\"ourprice\") or contains(@id,\"saleprice\")]/text()'\n",
    "            XPATH_SALE_PRICE = '//span[contains(@class,\"offer-price\") and contains(@class,\"a-size-medium\")]//text()'\n",
    "            #XPATH_ORIGINAL_PRICE = '//td[contains(text(),\"List Price\") or contains(text(),\"M.R.P\") or contains(text(),\"Price\")]/following-sibling::td/text()'\n",
    "            XPATH_CATEGORY = '//a[@class=\"a-link-normal a-color-tertiary\"]//text()'\n",
    "            XPATH_AVAILABILITY = '//div[@id=\"availability\"]//text()' \n",
    "            XPATH_AUTHOR = '//a[contains(@class,\"contributorNameID\")]//text()'\n",
    "            XPATH_ISBN10 = '//li/b[contains(text(),\"ISBN-10:\")]/following-sibling::text()'\n",
    "            XPATH_PAGES = '//li/b[contains(text(),\"Paperback\")]/following-sibling::text()'\n",
    "            XPATH_PUBLISHER = '//li/b[contains(text(),\"Publisher\")]/following-sibling::text()'\n",
    "            XPATH_LANGUAGE = '//li/b[contains(text(),\"Language\")]/following-sibling::text()'\n",
    "            XPATH_DIMENSIONS = '//li/b[contains(text(),\"Dimensions\")]/following-sibling::text()'\n",
    "            XPATH_WEIGHT = '//li/b[contains(text(),\"Weight\")]/following-sibling::text()'\n",
    "            XPATH_RATING = '//li/b[contains(text(),\"Average Customer Review:\")]/following-sibling::span/span/a/i/span/text()'\n",
    "           \n",
    "            RAW_NAME = doc.xpath(XPATH_NAME)\n",
    "            RAW_SALE_PRICE = doc.xpath(XPATH_SALE_PRICE)\n",
    "            RAW_CATEGORY = doc.xpath(XPATH_CATEGORY)\n",
    "            ##RAW_ORIGINAL_PRICE = doc.xpath(XPATH_ORIGINAL_PRICE)\n",
    "            RAw_AVAILABILITY = doc.xpath(XPATH_AVAILABILITY)\n",
    "            RAW_AUTHOR = doc.xpath(XPATH_AUTHOR)\n",
    "            RAW_ISBN10 = doc.xpath(XPATH_ISBN10)\n",
    "            RAW_PAGES = doc.xpath(XPATH_PAGES)\n",
    "            RAW_PUBLISHER = doc.xpath(XPATH_PUBLISHER) \n",
    "            RAW_LANGUAGE = doc.xpath(XPATH_LANGUAGE)\n",
    "            RAW_DIMENSIONS = doc.xpath(XPATH_DIMENSIONS)\n",
    "            RAW_WEIGHT = doc.xpath(XPATH_WEIGHT)\n",
    "            RAW_RATING = doc.xpath(XPATH_RATING)\n",
    "            \n",
    "            print RAW_RATING\n",
    " \n",
    "            NAME = ' '.join(''.join(RAW_NAME).split()) if RAW_NAME else None\n",
    "            SALE_PRICE = ' '.join(''.join(RAW_SALE_PRICE).split()).strip() if RAW_SALE_PRICE else None\n",
    "            CATEGORY = ' > '.join([i.strip() for i in RAW_CATEGORY]) if RAW_CATEGORY else None\n",
    "            #ORIGINAL_PRICE = ''.join(RAW_ORIGINAL_PRICE).strip() if RAW_ORIGINAL_PRICE else None\n",
    "            AVAILABILITY = ''.join(RAw_AVAILABILITY).strip() if RAw_AVAILABILITY else None\n",
    "            AUTHOR = ''.join(RAW_AUTHOR).strip() if RAW_AUTHOR else None\n",
    "            ISBN10 = ''.join(RAW_ISBN10).strip() if RAW_ISBN10 else None\n",
    "            PAGES = ''.join(RAW_PAGES).strip() if RAW_PAGES else None\n",
    "            PUBLISHER = ''.join(RAW_PUBLISHER).strip() if RAW_PUBLISHER else None\n",
    "            LANGUAGE = ''.join(RAW_LANGUAGE).strip() if RAW_LANGUAGE else None\n",
    "            DIMENSIONS = ''.join(RAW_DIMENSIONS).strip() if RAW_DIMENSIONS else None\n",
    "            WEIGHT = ''.join(RAW_WEIGHT).strip().strip('()').strip() if RAW_WEIGHT else None\n",
    "            RATING = ''.join(RAW_RATING).strip() if RAW_RATING else None\n",
    "            #if not ORIGINAL_PRICE:\n",
    "                #ORIGINAL_PRICE = SALE_PRICE\n",
    " \n",
    "            if page.status_code!=200:\n",
    "                raise ValueError('captha')\n",
    "            data = {\n",
    "                    'NAME':NAME,\n",
    "                    'SALE_PRICE':SALE_PRICE,\n",
    "                    'CATEGORY':CATEGORY,\n",
    "                    #'ORIGINAL_PRICE':ORIGINAL_PRICE,\n",
    "                    'AVAILABILITY':AVAILABILITY,\n",
    "                    'URL':url,\n",
    "                    'AUTHOR' : AUTHOR,\n",
    "                    'ISBN10' : ISBN10,\n",
    "                    'PAGES' : PAGES,\n",
    "                    'PUBLISHER' : PUBLISHER,\n",
    "                    'LANGUAGE' : LANGUAGE,\n",
    "                    'DIMENSIONS' : DIMENSIONS,\n",
    "                    'WEIGHT' : WEIGHT,\n",
    "                    'RATING' : RATING,\n",
    "                    }\n",
    " \n",
    "            return data\n",
    "        except Exception as e:\n",
    "            print e\n",
    " "
   ]
  },
  {
   "cell_type": "code",
   "execution_count": 99,
   "metadata": {
    "collapsed": true
   },
   "outputs": [],
   "source": [
    "def ReadAsin():\n",
    "    # AsinList = csv.DictReader(open(os.path.join(os.path.dirname(__file__),\"Asinfeed.csv\")))\n",
    "    AsinList = ['0451524934',\n",
    "    '0553380168',\n",
    "    '0375725784',\n",
    "    ]\n",
    "    extracted_data = []\n",
    "    for i in AsinList:\n",
    "        url = \"http://www.amazon.com/gp/product/\"+i\n",
    "        print \"Processing: \"+url\n",
    "        extracted_data.append(AmzonParser(url))\n",
    "        sleep(5)\n",
    "    f=open('data.json','w')\n",
    "    json.dump(extracted_data,f,indent=4)\n",
    " "
   ]
  },
  {
   "cell_type": "code",
   "execution_count": 100,
   "metadata": {},
   "outputs": [
    {
     "name": "stdout",
     "output_type": "stream",
     "text": [
      "Processing: http://www.amazon.com/gp/product/0451524934\n",
      "['4.5 out of 5 stars']\n",
      "Processing: http://www.amazon.com/gp/product/0553380168\n",
      "['4.5 out of 5 stars']\n",
      "Processing: http://www.amazon.com/gp/product/0375725784\n",
      "['3.2 out of 5 stars']\n"
     ]
    }
   ],
   "source": [
    "if __name__ == \"__main__\":\n",
    "    ReadAsin()"
   ]
  },
  {
   "cell_type": "code",
   "execution_count": 67,
   "metadata": {},
   "outputs": [
    {
     "data": {
      "text/plain": [
       "'bbb'"
      ]
     },
     "execution_count": 67,
     "metadata": {},
     "output_type": "execute_result"
    }
   ],
   "source": [
    "a = \"bbb\"\n",
    "a.strip().strip(')').strip('()').strip()"
   ]
  },
  {
   "cell_type": "code",
   "execution_count": 58,
   "metadata": {},
   "outputs": [
    {
     "data": {
      "text/plain": [
       "'bbb () '"
      ]
     },
     "execution_count": 58,
     "metadata": {},
     "output_type": "execute_result"
    }
   ],
   "source": [
    "a"
   ]
  },
  {
   "cell_type": "code",
   "execution_count": null,
   "metadata": {
    "collapsed": true
   },
   "outputs": [],
   "source": []
  }
 ],
 "metadata": {
  "kernelspec": {
   "display_name": "Python 3",
   "language": "python",
   "name": "python3"
  },
  "language_info": {
   "codemirror_mode": {
    "name": "ipython",
    "version": 3
   },
   "file_extension": ".py",
   "mimetype": "text/x-python",
   "name": "python",
   "nbconvert_exporter": "python",
   "pygments_lexer": "ipython3",
   "version": "3.6.3"
  }
 },
 "nbformat": 4,
 "nbformat_minor": 2
}
