{
 "cells": [
  {
   "cell_type": "code",
   "execution_count": 57,
   "metadata": {
    "collapsed": true
   },
   "outputs": [],
   "source": [
    "import json\n",
    "import sys\n",
    "import os\n",
    "from pprint import pprint\n",
    "import csv"
   ]
  },
  {
   "cell_type": "code",
   "execution_count": 64,
   "metadata": {
    "collapsed": true
   },
   "outputs": [],
   "source": [
    "unique_links = []\n",
    "base_path = \"amazon_json_data/\""
   ]
  },
  {
   "cell_type": "code",
   "execution_count": 59,
   "metadata": {},
   "outputs": [
    {
     "name": "stdout",
     "output_type": "stream",
     "text": [
      "3055\n",
      "3918\n"
     ]
    }
   ],
   "source": [
    "for filename in os.listdir(base_path):\n",
    "    books = json.load(open(base_path + filename))\n",
    "    for book in books:\n",
    "        unique_links.append( book['URL'])\n",
    "print(len(set(unique_links)))\n",
    "print(len(unique_links))"
   ]
  },
  {
   "cell_type": "code",
   "execution_count": 65,
   "metadata": {},
   "outputs": [
    {
     "name": "stdout",
     "output_type": "stream",
     "text": [
      "data0to100.json\n",
      "data1000to1100.json\n",
      "data100to200.json\n",
      "data1100to1500.json\n",
      "data1500to2000.json\n",
      "data2000to2200.json\n",
      "data200to500.json\n",
      "data2200to2700.json\n",
      "data2700to3300.json\n",
      "data3300to3500.json\n",
      "data3500to3900.json\n",
      "data3900to3920.json\n",
      "data3920to4500.json\n",
      "data500to700.json\n",
      "data700to900.json\n",
      "data900to1000.json\n"
     ]
    }
   ],
   "source": [
    "with open('amazon_books.csv','w',newline='') as file:\n",
    "    writer = csv.writer(file, delimiter=',')\n",
    "    writer.writerow((\"Name\",\"Sale Price\", \"Category\", \"Availability\", \"URL\", \"Author\", \"ISBN10\", \"Pages\", \"Publisher\", \"Language\", \"Dimensions\", \"Weight\", \"Rating\"))\n",
    "\n",
    "    for filename in os.listdir(base_path):\n",
    "        books = json.load(open(base_path + filename))\n",
    "        print(filename)\n",
    "        for book in books:\n",
    "            if book['NAME'] and book['NAME'] != \"\" and book['AUTHOR'] != \"\" and book['AUTHOR']:\n",
    "                if book['URL'] not in unique_links:\n",
    "                    #print(book['URL'])\n",
    "                    writer.writerow((book['NAME'], book['SALE_PRICE'], book['CATEGORY'], book['AVAILABILITY'], book['URL'], book['AUTHOR'], book['ISBN10'], book['PAGES'], book['PUBLISHER'], book['LANGUAGE'], book['DIMENSIONS'], book['WEIGHT'], book['RATING']))\n",
    "                    unique_links.append(book['URL'])\n",
    "    #pprint(data)"
   ]
  },
  {
   "cell_type": "code",
   "execution_count": null,
   "metadata": {
    "collapsed": true
   },
   "outputs": [],
   "source": []
  }
 ],
 "metadata": {
  "kernelspec": {
   "display_name": "Python 3",
   "language": "python",
   "name": "python3"
  },
  "language_info": {
   "codemirror_mode": {
    "name": "ipython",
    "version": 3
   },
   "file_extension": ".py",
   "mimetype": "text/x-python",
   "name": "python",
   "nbconvert_exporter": "python",
   "pygments_lexer": "ipython3",
   "version": "3.6.3"
  }
 },
 "nbformat": 4,
 "nbformat_minor": 2
}
