{
 "cells": [
  {
   "cell_type": "code",
   "execution_count": 4,
   "metadata": {
    "collapsed": true
   },
   "outputs": [],
   "source": [
    "import json\n",
    "import sys\n",
    "import os\n",
    "from pprint import pprint\n",
    "import csv"
   ]
  },
  {
   "cell_type": "code",
   "execution_count": 21,
   "metadata": {
    "collapsed": true
   },
   "outputs": [],
   "source": [
    "unique_links = []\n",
    "base_path = \"amazon_json_data/\""
   ]
  },
  {
   "cell_type": "code",
   "execution_count": 19,
   "metadata": {},
   "outputs": [
    {
     "name": "stdout",
     "output_type": "stream",
     "text": [
      "2713\n",
      "3500\n"
     ]
    }
   ],
   "source": [
    "for filename in os.listdir(base_path):\n",
    "    books = json.load(open(base_path + filename))\n",
    "    for book in books:\n",
    "        unique_links.append( book['URL'])\n",
    "print(len(set(unique_links)))\n",
    "print(len(unique_links))"
   ]
  },
  {
   "cell_type": "code",
   "execution_count": 25,
   "metadata": {},
   "outputs": [
    {
     "data": {
      "text/plain": [
       "'\\nwith open(\\'amazon_books.csv\\',\\'w\\',newline=\\'\\') as file:\\n    writer = csv.writer(file, delimiter=\\',\\')\\n    writer.writerow((\"Name\",\"Sale Price\", \"Category\", \"Availability\", \"URL\", \"Author\", \"ISBN10\", \"Pages\", \"Publisher\", \"Language\", \"Dimensions\", \"Weight\", \"Rating\"))\\n\\n    for filename in os.listdir(base_path):\\n        books = json.load(open(base_path + filename))\\n        for book in books:\\n            if book[\\'NAME\\'] and book[\\'NAME\\'] != \"\":\\n                if book[\\'URL\\'] not in unique_links:\\n                    writer.writerow((book[\\'NAME\\'], book[\\'SALE_PRICE\\'], book[\\'CATEGORY\\'], book[\\'AVAILABILITY\\'], book[\\'URL\\'], book[\\'AUTHOR\\'], book[\\'ISBN10\\'], book[\\'PAGES\\'], book[\\'PUBLISHER\\'], book[\\'LANGUAGE\\'], book[\\'DIMENSIONS\\'], book[\\'WEIGHT\\'], book[\\'RATING\\']))\\n                    unique_links.append(book[\\'URL\\'])\\n    #pprint(data)\\n'"
      ]
     },
     "execution_count": 25,
     "metadata": {},
     "output_type": "execute_result"
    }
   ],
   "source": [
    "\"\"\"\n",
    "with open('amazon_books.csv','w',newline='') as file:\n",
    "    writer = csv.writer(file, delimiter=',')\n",
    "    writer.writerow((\"Name\",\"Sale Price\", \"Category\", \"Availability\", \"URL\", \"Author\", \"ISBN10\", \"Pages\", \"Publisher\", \"Language\", \"Dimensions\", \"Weight\", \"Rating\"))\n",
    "\n",
    "    for filename in os.listdir(base_path):\n",
    "        books = json.load(open(base_path + filename))\n",
    "        for book in books:\n",
    "            if book['NAME'] and book['NAME'] != \"\":\n",
    "                if book['URL'] not in unique_links:\n",
    "                    writer.writerow((book['NAME'], book['SALE_PRICE'], book['CATEGORY'], book['AVAILABILITY'], book['URL'], book['AUTHOR'], book['ISBN10'], book['PAGES'], book['PUBLISHER'], book['LANGUAGE'], book['DIMENSIONS'], book['WEIGHT'], book['RATING']))\n",
    "                    unique_links.append(book['URL'])\n",
    "    #pprint(data)\n",
    "\"\"\""
   ]
  },
  {
   "cell_type": "code",
   "execution_count": null,
   "metadata": {
    "collapsed": true
   },
   "outputs": [],
   "source": []
  }
 ],
 "metadata": {
  "kernelspec": {
   "display_name": "Python 3",
   "language": "python",
   "name": "python3"
  },
  "language_info": {
   "codemirror_mode": {
    "name": "ipython",
    "version": 3
   },
   "file_extension": ".py",
   "mimetype": "text/x-python",
   "name": "python",
   "nbconvert_exporter": "python",
   "pygments_lexer": "ipython3",
   "version": "3.6.3"
  }
 },
 "nbformat": 4,
 "nbformat_minor": 2
}
