{
 "cells": [
  {
   "cell_type": "code",
   "execution_count": 1,
   "metadata": {
    "collapsed": true
   },
   "outputs": [],
   "source": [
    "import json\n",
    "import sys\n",
    "import os\n",
    "from pprint import pprint\n",
    "import csv"
   ]
  },
  {
   "cell_type": "code",
   "execution_count": 4,
   "metadata": {
    "collapsed": true
   },
   "outputs": [],
   "source": [
    "unique_links = []\n",
    "base_path = \"walmart_json_data/\""
   ]
  },
  {
   "cell_type": "code",
   "execution_count": 3,
   "metadata": {},
   "outputs": [
    {
     "name": "stdout",
     "output_type": "stream",
     "text": [
      "3197\n",
      "3197\n"
     ]
    }
   ],
   "source": [
    "for filename in os.listdir(base_path):\n",
    "    books = json.load(open(base_path + filename))\n",
    "    for book in books:\n",
    "        unique_links.append( book['URL'])\n",
    "print(len(set(unique_links)))\n",
    "print(len(unique_links))"
   ]
  },
  {
   "cell_type": "code",
   "execution_count": 5,
   "metadata": {},
   "outputs": [
    {
     "name": "stdout",
     "output_type": "stream",
     "text": [
      "data_walmart0to200.json\n",
      "data_walmart1000to1100.json\n",
      "data_walmart1100to1120.json\n",
      "data_walmart1120to1145.json\n",
      "data_walmart1145to1224.json\n",
      "data_walmart1224to1500.json\n",
      "data_walmart1500to1796.json\n",
      "data_walmart1796to2000.json\n",
      "data_walmart2000to2300.json\n",
      "data_walmart200to1000.json\n",
      "data_walmart2300to2500.json\n",
      "data_walmart2500to3200.json\n"
     ]
    }
   ],
   "source": [
    "with open('walmart_books.csv','w',newline='') as file:\n",
    "    writer = csv.writer(file, delimiter=',')\n",
    "    writer.writerow((\"Name\",\"Sale Price\", \"Category\", \"URL\", \"Author\", \"ISBN10\", \"Pages\", \"Publisher\", \"Language\", \"Dimensions\", \"Rating\"))\n",
    "\n",
    "    for filename in os.listdir(base_path):\n",
    "        books = json.load(open(base_path + filename))\n",
    "        print(filename)\n",
    "        for book in books:\n",
    "            if book['NAME'] and book['NAME'] != \"\" and book['AUTHOR'] != \"\" and book['AUTHOR']:\n",
    "                if book['URL'] not in unique_links:\n",
    "                    #print(book['URL'])\n",
    "                    writer.writerow((book['NAME'], book['SALE_PRICE'], book['CATEGORY'], book['URL'], book['AUTHOR'], book['ISBN10'], book['PAGES'], book['PUBLISHER'], book['LANGUAGE'], book['DIMENSIONS'], book['RATING']))\n",
    "                    unique_links.append(book['URL'])\n",
    "    #pprint(data)"
   ]
  },
  {
   "cell_type": "code",
   "execution_count": null,
   "metadata": {
    "collapsed": true
   },
   "outputs": [],
   "source": []
  }
 ],
 "metadata": {
  "kernelspec": {
   "display_name": "Python 3",
   "language": "python",
   "name": "python3"
  },
  "language_info": {
   "codemirror_mode": {
    "name": "ipython",
    "version": 3
   },
   "file_extension": ".py",
   "mimetype": "text/x-python",
   "name": "python",
   "nbconvert_exporter": "python",
   "pygments_lexer": "ipython3",
   "version": "3.6.3"
  }
 },
 "nbformat": 4,
 "nbformat_minor": 2
}
