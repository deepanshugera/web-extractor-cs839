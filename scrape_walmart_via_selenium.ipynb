{
 "cells": [
  {
   "cell_type": "code",
   "execution_count": 27,
   "metadata": {
    "collapsed": true
   },
   "outputs": [],
   "source": [
    "from lxml import html  \n",
    "import csv,os,json\n",
    "import requests\n",
    "from time import sleep\n",
    "import ast\n",
    "import re\n",
    "from selenium import webdriver\n",
    "import pandas as pd"
   ]
  },
  {
   "cell_type": "code",
   "execution_count": 51,
   "metadata": {
    "collapsed": true
   },
   "outputs": [],
   "source": [
    "driver = webdriver.Chrome(executable_path=r'C:\\Geckodriver\\chromedriver.exe')\n",
    "driver.set_page_load_timeout(500)"
   ]
  },
  {
   "cell_type": "code",
   "execution_count": 100,
   "metadata": {},
   "outputs": [],
   "source": [
    "retries = 0\n",
    "def WalmartParser(url):\n",
    "    global retries\n",
    "    headers = {'User-Agent': 'Mozilla/5.0 (X11; Linux x86_64) AppleWebKit/537.36 (KHTML, like Gecko) Chrome/42.0.2311.90 Safari/537.36'}\n",
    "    driver.get(url)\n",
    "    #print(driver)\n",
    "    page = driver.page_source\n",
    "    rpage = requests.get(url,headers=headers)\n",
    "   \n",
    "    while True:\n",
    "        sleep(3)\n",
    "        try:\n",
    "            doc = html.fromstring(page)\n",
    "            script_data = doc.xpath('//script[contains(., \"Specifications\")]/text()')[0]\n",
    "            \n",
    "            XPATH_NAME = '//h1[contains(@class,\"prod-ProductTitle\")]/div/text()'\n",
    "            XPATH_SALE_PRICE = '//span[@class=\"display-inline-block-xs prod-PaddingRight--s\"]//text()'\n",
    "            XPATH_CATEGORY = '//ol[@class=\"breadcrumb-list \"]//text()'\n",
    "            XPATH_RATING = '//span[@class=\"seo-avg-rating\" and @itemprop=\"ratingValue\"]/text()'\n",
    "             \n",
    "            \n",
    "            ''' \n",
    "            XPATH_SALE_PRICE = '//span[contains(@class,\"offer-price\") and contains(@class,\"a-size-medium\")]//text()'\n",
    "            #XPATH_ORIGINAL_PRICE = '//td[contains(text(),\"List Price\") or contains(text(),\"M.R.P\") or contains(text(),\"Price\")]/following-sibling::td/text()'\n",
    "            XPATH_CATEGORY = '//a[@class=\"a-link-normal a-color-tertiary\"]//text()'\n",
    "            XPATH_AVAILABILITY = '//div[@id=\"availability\"]//text()' \n",
    "            XPATH_AUTHOR = '//a[contains(@class,\"contributorNameID\")]//text()'\n",
    "            XPATH_ISBN10 = '//li/b[contains(text(),\"ISBN-10:\")]/following-sibling::text()'\n",
    "            XPATH_PAGES = '//li/b[contains(text(),\"Paperback\")]/following-sibling::text()'\n",
    "            XPATH_PUBLISHER = '//li/b[contains(text(),\"Publisher\")]/following-sibling::text()'\n",
    "            XPATH_LANGUAGE = '//li/b[contains(text(),\"Language\")]/following-sibling::text()'\n",
    "            XPATH_DIMENSIONS = '//li/b[contains(text(),\"Dimensions\")]/following-sibling::text()'\n",
    "            XPATH_WEIGHT = '//li/b[contains(text(),\"Weight\")]/following-sibling::text()'\n",
    "            XPATH_RATING = '//li/b[contains(text(),\"Average Customer Review:\")]/following-sibling::span/span/a/i/span/text()'\n",
    "            '''\n",
    "           \n",
    "            RAW_NAME = doc.xpath(XPATH_NAME)\n",
    "            RAW_SALE_PRICE = doc.xpath(XPATH_SALE_PRICE)\n",
    "            RAW_CATEGORY = doc.xpath(XPATH_CATEGORY)\n",
    "            RAW_RATING = doc.xpath(XPATH_RATING)\n",
    "            print(RAW_SALE_PRICE)\n",
    "           # RAW_AUTHOR = doc.xpath(XPATH_AUTHOR)\n",
    "            '''\n",
    "            \n",
    "            \n",
    "            ##RAW_ORIGINAL_PRICE = doc.xpath(XPATH_ORIGINAL_PRICE)\n",
    "            RAw_AVAILABILITY = doc.xpath(XPATH_AVAILABILITY)\n",
    "            \n",
    "            RAW_ISBN10 = doc.xpath(XPATH_ISBN10)\n",
    "            RAW_PAGES = doc.xpath(XPATH_PAGES)\n",
    "            RAW_PUBLISHER = doc.xpath(XPATH_PUBLISHER) \n",
    "            RAW_LANGUAGE = doc.xpath(XPATH_LANGUAGE)\n",
    "            RAW_DIMENSIONS = doc.xpath(XPATH_DIMENSIONS)\n",
    "            RAW_WEIGHT = doc.xpath(XPATH_WEIGHT)\n",
    "            RAW_RATING = doc.xpath(XPATH_RATING)\n",
    "            '''\n",
    "            \n",
    "            AUTHOR, PUBLISHER, LANGUAGE, PAGES, ISBN10, DIMENSIONS = None, None, None, None, None, None\n",
    "            \n",
    "\n",
    "            data = re.search(r'\"Specifications\":(.*?),\"ShortDescription', script_data).group(1)\n",
    "            #print(data)\n",
    "            #import json\n",
    "            #data = json.loads(data)\n",
    "            data = ast.literal_eval(data)\n",
    "            data = (data[\"specifications\"][\"values\"][0])\n",
    "            for item in data:\n",
    "                #print item\n",
    "                for k,v in item.items():\n",
    "                    if k == \"author\":\n",
    "                        RAW_AUTHOR = v['values']\n",
    "                        AUTHOR = ''.join(RAW_AUTHOR).strip() if RAW_AUTHOR else None\n",
    "                        \n",
    "                    elif k == \"publisher\":\n",
    "                        RAW_PUBLISHER = v['values']\n",
    "                        PUBLISHER = ''.join(RAW_PUBLISHER).strip() if RAW_PUBLISHER else None\n",
    "\n",
    "                    elif k == \"languages\":\n",
    "                        RAW_LANGUAGE = v['values']\n",
    "                        LANGUAGE = ''.join(RAW_LANGUAGE).strip() if RAW_LANGUAGE else None\n",
    "                        \n",
    "                    elif k == \"number_of_pages\":\n",
    "                        RAW_PAGES = v['values']\n",
    "                        PAGES = ''.join(RAW_PAGES).strip() if RAW_PAGES else None\n",
    "\n",
    "                    elif k == \"isbn-10\":\n",
    "                        RAW_ISBN10 = v['values']\n",
    "                        ISBN10 = ''.join(RAW_ISBN10).strip() if RAW_ISBN10 else None\n",
    "                    elif k == \"dimension\":\n",
    "                        RAW_DIMENSIONS = v['values']\n",
    "                        DIMENSIONS = ''.join(RAW_DIMENSIONS).strip() if RAW_DIMENSIONS else None\n",
    "                    \n",
    "            #AUTHOR = data\n",
    "            \n",
    "            #print AUTHOR\n",
    " \n",
    "            NAME = ' '.join(''.join(RAW_NAME).split()) if RAW_NAME else None\n",
    "            SALE_PRICE = ' '.join(''.join(RAW_SALE_PRICE).split()).strip() if RAW_SALE_PRICE else None\n",
    "            CATEGORY = ' > '.join([i.strip() for i in RAW_CATEGORY]) if RAW_CATEGORY else None\n",
    "            RATING = ''.join(RAW_RATING).strip() if RAW_RATING else None\n",
    "            \n",
    "           \n",
    "            \n",
    "            #print AUTHOR, PAGES, PUBLISHER\n",
    "            '''\n",
    "            WEIGHT = ''.join(RAW_WEIGHT).strip().strip('()').strip() if RAW_WEIGHT else None\n",
    "            RATING = ''.join(RAW_RATING).strip() if RAW_RATING else None\n",
    "            #if not ORIGINAL_PRICE:\n",
    "                #ORIGINAL_PRICE = SALE_PRICE\n",
    "                '''\n",
    " \n",
    "            if rpage.status_code!=200 or not NAME or NAME == \"\":\n",
    "                raise ValueError('captha')\n",
    "            data = {\n",
    "                    'NAME':NAME,\n",
    "                    'SALE_PRICE':SALE_PRICE,\n",
    "                    'CATEGORY':CATEGORY,\n",
    "                   # 'AVAILABILITY':AVAILABILITY,\n",
    "                    'URL':url,\n",
    "                    'AUTHOR' : AUTHOR,\n",
    "                    'ISBN10' : ISBN10,\n",
    "                    'PAGES' : PAGES,\n",
    "                    'PUBLISHER' : PUBLISHER,\n",
    "                    'LANGUAGE' : LANGUAGE,\n",
    "                    'DIMENSIONS' : DIMENSIONS,\n",
    "                    #'WEIGHT' : WEIGHT,\n",
    "                    'RATING' : RATING,\n",
    "                    }\n",
    "            retries = 0\n",
    "            return data\n",
    "        except Exception as e:\n",
    "            retries = retries + 1\n",
    "            if retries > 5:\n",
    "                retries = 0\n",
    "                return \"\"\n",
    "            print(\"Retrying with exception , retires = \" + str(retries))\n",
    "            driver.get(url)\n",
    "            #print(driver)\n",
    "            rpage = requests.get(url,headers=headers)\n",
    "            page = driver.page_source\n",
    " "
   ]
  },
  {
   "cell_type": "code",
   "execution_count": 101,
   "metadata": {},
   "outputs": [],
   "source": [
    "extracted_data = []\n",
    "def ReadAsin(AsinList):\n",
    "    count = 0\n",
    "    # AsinList = csv.DictReader(open(os.path.join(os.path.dirname(__file__),\"Asinfeed.csv\")))\n",
    "    for i in AsinList:\n",
    "        url = \"http://www.walmart.com/ip/\"+i\n",
    "        print(\"Processing: \"+url)\n",
    "        json_data = WalmartParser(url)\n",
    "        if json_data != \"\":\n",
    "            extracted_data.append(json_data)\n",
    "        else:\n",
    "            print(\"Skipping\")\n",
    "        count += 1\n",
    "        #sleep(5)\n",
    "        print(count)\n",
    "    f=open('data_walmart.json','w')\n",
    "    json.dump(extracted_data,f,indent=4)\n",
    " "
   ]
  },
  {
   "cell_type": "code",
   "execution_count": 102,
   "metadata": {
    "collapsed": true
   },
   "outputs": [],
   "source": [
    "formatted_asin = []\n",
    "df = pd.read_csv(\"walmart_product_asins.csv\")\n",
    "for index, row in df.iterrows():\n",
    "    #print(row[1])\n",
    "    formatted_asin.append(str(row[1]))"
   ]
  },
  {
   "cell_type": "code",
   "execution_count": null,
   "metadata": {
    "scrolled": true
   },
   "outputs": [
    {
     "name": "stdout",
     "output_type": "stream",
     "text": [
      "Processing: http://www.walmart.com/ip/834005731\n",
      "Retrying with exception , retires = 1\n",
      "Retrying with exception , retires = 2\n",
      "Retrying with exception , retires = 3\n",
      "Retrying with exception , retires = 4\n",
      "Retrying with exception , retires = 5\n",
      "Skipping\n",
      "1\n",
      "Processing: http://www.walmart.com/ip/5664513\n",
      "['$', '15', '.', '11']\n",
      "2\n",
      "Processing: http://www.walmart.com/ip/53398236\n",
      "['$', '14', '.', '69']\n",
      "3\n",
      "Processing: http://www.walmart.com/ip/44372468\n",
      "['$', '7', '.', '19']\n",
      "4\n",
      "Processing: http://www.walmart.com/ip/655170252\n",
      "['$', '17', '.', '10']\n",
      "5\n",
      "Processing: http://www.walmart.com/ip/55564639\n",
      "['$', '7', '.', '75']\n",
      "6\n",
      "Processing: http://www.walmart.com/ip/56176553\n",
      "['$', '5', '.', '98']\n",
      "7\n",
      "Processing: http://www.walmart.com/ip/27208141\n",
      "['$', '13', '.', '06']\n",
      "8\n",
      "Processing: http://www.walmart.com/ip/51799379\n"
     ]
    }
   ],
   "source": [
    "if __name__ == \"__main__\":\n",
    "    ReadAsin(formatted_asin[2501:3200])"
   ]
  },
  {
   "cell_type": "code",
   "execution_count": 24,
   "metadata": {},
   "outputs": [
    {
     "name": "stdout",
     "output_type": "stream",
     "text": [
      "201\n"
     ]
    }
   ],
   "source": [
    "print(len(extracted_data))"
   ]
  },
  {
   "cell_type": "code",
   "execution_count": 29,
   "metadata": {
    "collapsed": true
   },
   "outputs": [],
   "source": [
    "f=open('data_walmart.json','w')\n",
    "json.dump(extracted_data,f,indent=4)\n",
    "f.close()"
   ]
  },
  {
   "cell_type": "code",
   "execution_count": null,
   "metadata": {
    "collapsed": true
   },
   "outputs": [],
   "source": []
  }
 ],
 "metadata": {
  "kernelspec": {
   "display_name": "Python 3",
   "language": "python",
   "name": "python3"
  },
  "language_info": {
   "codemirror_mode": {
    "name": "ipython",
    "version": 3
   },
   "file_extension": ".py",
   "mimetype": "text/x-python",
   "name": "python",
   "nbconvert_exporter": "python",
   "pygments_lexer": "ipython3",
   "version": "3.6.3"
  }
 },
 "nbformat": 4,
 "nbformat_minor": 2
}
