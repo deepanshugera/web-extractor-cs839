{
 "cells": [
  {
   "cell_type": "code",
   "execution_count": 24,
   "metadata": {},
   "outputs": [],
   "source": [
    "from lxml import html  \n",
    "import csv,os,json\n",
    "import requests\n",
    "from lxml import etree\n",
    "from time import sleep\n",
    "from selenium import webdriver"
   ]
  },
  {
   "cell_type": "code",
   "execution_count": 32,
   "metadata": {},
   "outputs": [],
   "source": [
    "data_asins= []\n",
    "headers = {'User-Agent': 'Mozilla/5.0 (X11; Linux x86_64) AppleWebKit/537.36 (KHTML, like Gecko) Chrome/42.0.2311.90 Safari/537.36'}\n",
    "driver = webdriver.Firefox(executable_path=r'C:\\Geckodriver\\geckodriver.exe')\n",
    "driver.set_page_load_timeout(5)"
   ]
  },
  {
   "cell_type": "code",
   "execution_count": 18,
   "metadata": {
    "collapsed": true
   },
   "outputs": [],
   "source": [
    "literature_books_url_1= \"https://www.walmart.com/browse/literature-fiction/fiction/3920_582105_9435716?page=\"\n",
    "fiction_books_url_1 = \"https://www.walmart.com/browse/fiction/science-fiction-fantasy/3920_582105_9435716_586163?page=\"\n",
    "mystery_books_url_1 = \"https://www.walmart.com/browse/literature-fiction/fiction/3920_582105_9435716?cat_id=3920_582105_9435716_586706&page=\""
   ]
  },
  {
   "cell_type": "code",
   "execution_count": 19,
   "metadata": {},
   "outputs": [],
   "source": [
    "def getAsinsFromURL(url):\n",
    "    page = requests.get(url,headers=headers)\n",
    "    doc= html.fromstring(page.content)\n",
    "    #print(page.content)\n",
    "    X_BOOK_ID = '//a[contains(@class,\"product-title-link\")]'\n",
    "    books = doc.xpath(X_BOOK_ID)\n",
    "    i = 0\n",
    "    for book in books:\n",
    "        i += 1\n",
    "        if i != 1:\n",
    "            data_asin = book.get('href')\n",
    "            print(data_asin)\n",
    "            data_asins.append(data_asin)\n",
    "#print(result[0].get('data-asin'))"
   ]
  },
  {
   "cell_type": "code",
   "execution_count": 20,
   "metadata": {
    "collapsed": true
   },
   "outputs": [],
   "source": [
    "def scrapPages():\n",
    "    for page_no in range(1, 2):\n",
    "        literature_url = literature_books_url_1 + str(page_no)\n",
    "        fiction_url = fiction_books_url_1 + str(page_no)\n",
    "        mystery_url = mystery_books_url_1 + str(page_no)\n",
    "        #sleep(3)\n",
    "        print(\"LitUrl \" + literature_url)\n",
    "        getAsinsFromURL(literature_url)\n",
    "        #sleep(5)\n",
    "        print(\"FicUrl\" + fiction_url)\n",
    "        getAsinsFromURL(fiction_url)\n",
    "        #sleep(3)\n",
    "        print(\"MysUrl\" + mystery_url)\n",
    "        getAsinsFromURL(mystery_url)\n",
    "    return data_asins"
   ]
  },
  {
   "cell_type": "code",
   "execution_count": 21,
   "metadata": {},
   "outputs": [
    {
     "name": "stdout",
     "output_type": "stream",
     "text": [
      "LitUrl https://www.walmart.com/browse/literature-fiction/fiction/3920_582105_9435716?page=1\n",
      "/ip/The-Great-Alone/56120936\n",
      "/ip/Before-We-Were-Yours/55344290\n",
      "/ip/Origin/54969952\n",
      "/ip/And-Then-There-Were-None/15404384\n",
      "/ip/SEE-ME/55342705\n",
      "/ip/Hidden-Figures/52612502\n",
      "/ip/Sleeping-Beauties-A-Novel/55771019\n",
      "/ip/To-Kill-a-Mockingbird/444205\n",
      "/ip/Darker-Fifty-Shades-Darker-as-Told-by-Christian/404017163\n",
      "/ip/The-Medical-Examiner/55833442\n",
      "/ip/Fall-from-Grace/56076649\n",
      "FicUrlhttps://www.walmart.com/browse/fiction/science-fiction-fantasy/3920_582105_9435716_586163?page=1\n",
      "/ip/The-Shape-of-Water/56175636\n",
      "/ip/Year-One-Chronicles-of-the-One-Book-1/55964107\n",
      "/ip/Game-of-Thrones-Paperback-Boxed-Set/20664829\n",
      "/ip/Outlander-Boxed-Set-Books-1-4/43378712\n",
      "/ip/Ready-Player-One/56103065\n",
      "/ip/The-Dark-Tower-Boxed-Set/54977013\n",
      "/ip/The-Hobbit-and-The-Lord-of-the-Rings-Deluxe-Pocket-Boxed-Set/38412112\n",
      "/ip/Game-of-Thrones-Leather-Cloth-Boxed-Set-Song-of-Ice-and-Fire-Series/45761465\n",
      "/ip/Artemis/55970972\n",
      "/ip/Ready-Player-One/17476810\n",
      "/ip/TOLKIEN-4-BK-BOX-SET-MTI/21133891\n",
      "MysUrlhttps://www.walmart.com/browse/literature-fiction/fiction/3920_582105_9435716?cat_id=3920_582105_9435716_586706&page=1\n",
      "/ip/Dark-in-Death-An-Eve-Dallas-Novel-In-Death-Book-46/56088903\n",
      "/ip/Manhunt-A-Michael-Bennett-Story/56089967\n",
      "/ip/The-Rooster-Bar-Hardcover/55789404\n",
      "/ip/It-A-Novel/55786708\n",
      "/ip/The-Medical-Examiner/55833442\n",
      "/ip/Origin/54969952\n",
      "/ip/And-Then-There-Were-None/15404384\n",
      "/ip/It-A-Novel/48727209\n",
      "/ip/Hardcore-Twenty-Four/55971280\n",
      "/ip/Sleeping-Beauties-A-Novel/55771019\n",
      "/ip/Camino-Island/55566239\n"
     ]
    },
    {
     "data": {
      "text/plain": [
       "['/ip/The-Great-Alone/56120936',\n",
       " '/ip/Before-We-Were-Yours/55344290',\n",
       " '/ip/Origin/54969952',\n",
       " '/ip/And-Then-There-Were-None/15404384',\n",
       " '/ip/SEE-ME/55342705',\n",
       " '/ip/Hidden-Figures/52612502',\n",
       " '/ip/Sleeping-Beauties-A-Novel/55771019',\n",
       " '/ip/To-Kill-a-Mockingbird/444205',\n",
       " '/ip/Darker-Fifty-Shades-Darker-as-Told-by-Christian/404017163',\n",
       " '/ip/The-Medical-Examiner/55833442',\n",
       " '/ip/Fall-from-Grace/56076649',\n",
       " '/ip/The-Shape-of-Water/56175636',\n",
       " '/ip/Year-One-Chronicles-of-the-One-Book-1/55964107',\n",
       " '/ip/Game-of-Thrones-Paperback-Boxed-Set/20664829',\n",
       " '/ip/Outlander-Boxed-Set-Books-1-4/43378712',\n",
       " '/ip/Ready-Player-One/56103065',\n",
       " '/ip/The-Dark-Tower-Boxed-Set/54977013',\n",
       " '/ip/The-Hobbit-and-The-Lord-of-the-Rings-Deluxe-Pocket-Boxed-Set/38412112',\n",
       " '/ip/Game-of-Thrones-Leather-Cloth-Boxed-Set-Song-of-Ice-and-Fire-Series/45761465',\n",
       " '/ip/Artemis/55970972',\n",
       " '/ip/Ready-Player-One/17476810',\n",
       " '/ip/TOLKIEN-4-BK-BOX-SET-MTI/21133891',\n",
       " '/ip/Dark-in-Death-An-Eve-Dallas-Novel-In-Death-Book-46/56088903',\n",
       " '/ip/Manhunt-A-Michael-Bennett-Story/56089967',\n",
       " '/ip/The-Rooster-Bar-Hardcover/55789404',\n",
       " '/ip/It-A-Novel/55786708',\n",
       " '/ip/The-Medical-Examiner/55833442',\n",
       " '/ip/Origin/54969952',\n",
       " '/ip/And-Then-There-Were-None/15404384',\n",
       " '/ip/It-A-Novel/48727209',\n",
       " '/ip/Hardcore-Twenty-Four/55971280',\n",
       " '/ip/Sleeping-Beauties-A-Novel/55771019',\n",
       " '/ip/Camino-Island/55566239']"
      ]
     },
     "execution_count": 21,
     "metadata": {},
     "output_type": "execute_result"
    }
   ],
   "source": [
    "scrapPages()"
   ]
  },
  {
   "cell_type": "code",
   "execution_count": 22,
   "metadata": {},
   "outputs": [
    {
     "name": "stdout",
     "output_type": "stream",
     "text": [
      "33\n"
     ]
    }
   ],
   "source": [
    "print(len(data_asins))"
   ]
  },
  {
   "cell_type": "code",
   "execution_count": null,
   "metadata": {
    "collapsed": true
   },
   "outputs": [],
   "source": []
  }
 ],
 "metadata": {
  "kernelspec": {
   "display_name": "Python 3",
   "language": "python",
   "name": "python3"
  },
  "language_info": {
   "codemirror_mode": {
    "name": "ipython",
    "version": 3
   },
   "file_extension": ".py",
   "mimetype": "text/x-python",
   "name": "python",
   "nbconvert_exporter": "python",
   "pygments_lexer": "ipython3",
   "version": "3.6.3"
  }
 },
 "nbformat": 4,
 "nbformat_minor": 2
}
